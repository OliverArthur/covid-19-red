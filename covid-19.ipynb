{
 "cells": [
  {
   "cell_type": "code",
   "execution_count": 172,
   "metadata": {
    "pycharm": {
     "is_executing": false
    }
   },
   "outputs": [],
   "source": [
    "# importing libraries\n",
    "from __future__ import print_function\n",
    "from ipywidgets import interact, interactive, fixed, interact_manual\n",
    "from IPython.core.display import display, HTML\n",
    "\n",
    "import numpy as np\n",
    "import pandas as pd\n",
    "import matplotlib.pyplot as plt\n",
    "import plotly.express as px\n",
    "\n",
    "import folium\n",
    "import random\n",
    "import math\n",
    "import time\n",
    "\n",
    "import plotly.graph_objects as go\n",
    "import seaborn as sns\n",
    "import ipywidgets as widgets\n",
    "\n",
    "from sklearn.model_selection import RandomizedSearchCV, train_test_split\n",
    "from sklearn.svm import SVR\n",
    "from sklearn.metrics import mean_squared_error, mean_absolute_error\n",
    "import datetime\n",
    "import operator\n",
    "plt.style.use('seaborn')"
   ]
  },
  {
   "cell_type": "code",
   "execution_count": 173,
   "metadata": {
    "pycharm": {
     "is_executing": false,
     "name": "#%%\n"
    }
   },
   "outputs": [],
   "source": [
    "death_df = pd.read_csv('https://raw.githubusercontent.com/OliverArthur/covid-19-rd-data/master/death.csv')\n",
    "confirmed_df = pd.read_csv('https://raw.githubusercontent.com/OliverArthur/covid-19-rd-data/master/confirmed.csv')\n",
    "recovered_df = pd.read_csv('https://raw.githubusercontent.com/OliverArthur/covid-19-rd-data/master/recovered.csv')\n",
    "provinces_df = pd.read_csv('https://raw.githubusercontent.com/OliverArthur/covid-19-rd-data/master/provinces.csv')\n",
    "case_per_provinces_df = pd.read_csv('https://raw.githubusercontent.com/OliverArthur/covid-19-rd-data/master/case-per-provinces.csv')"
   ]
  },
  {
   "cell_type": "code",
   "execution_count": 174,
   "metadata": {
    "pycharm": {
     "is_executing": false,
     "name": "#%%\n"
    }
   },
   "outputs": [],
   "source": [
    "# clean data\n",
    "death_df.columns = map(str.lower, death_df.columns)\n",
    "confirmed_df.columns = map(str.lower, confirmed_df.columns)\n",
    "recovered_df.columns = map(str.lower, recovered_df.columns)\n",
    "provinces_df.columns = map(str.lower, provinces_df.columns)"
   ]
  },
  {
   "cell_type": "code",
   "execution_count": 175,
   "metadata": {
    "pycharm": {
     "is_executing": false
    }
   },
   "outputs": [],
   "source": [
    "confirmed_df.head()\n",
    "cols = confirmed_df.keys()\n",
    "confirmed = confirmed_df.loc[:, cols[3]:cols[-1]]\n",
    "deaths = death_df.loc[:, cols[3]:cols[-1]]\n",
    "recovered_list = recovered_df.loc[:, cols[3]:cols[-1]]\n",
    "\n",
    "dates = confirmed.keys()\n",
    "confirmed_total = []\n",
    "deaths_total = []\n",
    "recovered_total = []\n",
    "for i in dates:\n",
    "    confirmed_sum = confirmed[i].sum()\n",
    "    deaths_sum = deaths[i].sum()\n",
    "    recovered_sum = recovered_list[i].sum()\n",
    "    confirmed_total.append(confirmed_sum)\n",
    "    deaths_total.append(deaths_sum)\n",
    "    recovered_total.append(recovered_sum)"
   ]
  },
  {
   "cell_type": "code",
   "execution_count": 176,
   "outputs": [
    {
     "data": {
      "text/plain": "<IPython.core.display.HTML object>",
      "text/html": "<div style = 'background-color: #504e4e; padding: 30px '><span style='color: #fff; font-size:30px;'> Confirmados: 4335</span><span style='color: red; font-size:30px;margin-left:20px;'> Muertos: 217</span><span style='color: lightgreen; font-size:30px; margin-left:20px;'> Recuperados: 312</span></div>"
     },
     "metadata": {},
     "output_type": "display_data"
    }
   ],
   "source": [
    "display(HTML(\"<div style = 'background-color: #504e4e; padding: 30px '>\" +\n",
    "             \"<span style='color: #fff; font-size:30px;'> Confirmados: \"  + str(confirmed_sum) +\"</span>\" +\n",
    "             \"<span style='color: red; font-size:30px;margin-left:20px;'> Muertos: \" + str(deaths_sum) + \"</span>\"+\n",
    "             \"<span style='color: lightgreen; font-size:30px; margin-left:20px;'> Recuperados: \" + str(recovered_sum) + \"</span>\"+\n",
    "             \"</div>\")\n",
    "       )"
   ],
   "metadata": {
    "collapsed": false,
    "pycharm": {
     "name": "#%%\n",
     "is_executing": false
    }
   }
  },
  {
   "cell_type": "code",
   "execution_count": 177,
   "outputs": [
    {
     "traceback": [
      "\u001b[0;36m  File \u001b[0;32m\"<ipython-input-177-1ecb57c6835b>\"\u001b[0;36m, line \u001b[0;32m3\u001b[0m\n\u001b[0;31m    > Los coronavirus son una gran familia de virus que pueden causar enfermedades respiratorias en los seres humanos, desde resfriados comunes hasta condiciones más graves como el síndrome respiratorio agudo severo (SARS) y el síndrome respiratorio de Oriente Medio (MERS).\u001b[0m\n\u001b[0m    ^\u001b[0m\n\u001b[0;31mSyntaxError\u001b[0m\u001b[0;31m:\u001b[0m invalid syntax\n"
     ],
     "ename": "SyntaxError",
     "evalue": "invalid syntax (<ipython-input-177-1ecb57c6835b>, line 3)",
     "output_type": "error"
    }
   ],
   "source": [
    "## ¿Qué es COVID-19?\n",
    "\n",
    "Los coronavirus son una gran familia de virus que pueden causar enfermedades respiratorias en los seres humanos, desde resfriados comunes hasta condiciones más graves como el síndrome respiratorio agudo severo (SARS) y el síndrome respiratorio de Oriente Medio (MERS).\n",
    "\n",
    "1. El nuevo coronavirus es una nueva cepa de coronavirus no identificada anteriormente. \n",
    "2. El nuevo coronavirus involucrado en el brote actual ha sido nombrado SARS-CoV-2 por la Organización Mundial de la Salud (OMS).\n",
    "3. La enfermedad que causa ha sido denominada \"enfermedad coronavirus 2019\" (o \"COVID-19\")."
   ],
   "metadata": {
    "collapsed": false,
    "pycharm": {
     "name": "#%%\n",
     "is_executing": false
    }
   }
  },
  {
   "cell_type": "code",
   "execution_count": null,
   "metadata": {
    "pycharm": {
     "is_executing": false,
     "name": "#%%\n"
    }
   },
   "outputs": [],
   "source": [
    "# number of provicens to enter\n",
    "fig = go.FigureWidget( layout=go.Layout() )\n",
    "def highlight_col(x):\n",
    "    r = 'background-color: red'\n",
    "    y = 'background-color: purple'\n",
    "    g = 'background-color: grey'\n",
    "    df1 = pd.DataFrame('', index=x.index, columns=x.columns)\n",
    "    df1.iloc[:, 4] = y\n",
    "    df1.iloc[:, 5] = r\n",
    "    df1.iloc[:, 6] = g\n",
    "    \n",
    "    return df1\n",
    "\n",
    "def show_latest_cases(n):\n",
    "    n = int(n)\n",
    "    return case_per_provinces_df.sort_values('confirmados', ascending= False).head(n).style.apply(highlight_col, axis=None)\n",
    "\n",
    "interact(show_latest_cases, n='10')\n",
    "\n",
    "ipywLayout = widgets.Layout(border='solid 2px green')\n",
    "ipywLayout.display='none'\n",
    "widgets.VBox([fig], layout=ipywLayout)"
   ]
  },
  {
   "cell_type": "code",
   "execution_count": null,
   "metadata": {
    "pycharm": {
     "is_executing": false,
     "name": "#%%\n"
    }
   },
   "outputs": [],
   "source": [
    "sorted_provinces_df = case_per_provinces_df.sort_values('confirmados', ascending= False)"
   ]
  },
  {
   "cell_type": "code",
   "execution_count": null,
   "metadata": {
    "pycharm": {
     "is_executing": false,
     "name": "#%%\n"
    }
   },
   "outputs": [],
   "source": [
    "# # plotting the 10 worst hit provinces\n",
    "def bubble_chart(n):\n",
    "    fig = px.scatter(sorted_provinces_df.head(n), x=\"provincia\", y=\"confirmados\", size=\"confirmados\", color=\"provincia\",\n",
    "               hover_name=\"provincia\", size_max=60)\n",
    "    fig.update_layout(\n",
    "    title=str(n) +\" Las provincias más afectados\",\n",
    "    xaxis_title=\"Provincias\",\n",
    "    yaxis_title=\"Casos confirmados\",\n",
    "    width = 700\n",
    "    )\n",
    "    fig.show()\n",
    "\n",
    "interact(bubble_chart, n=10)\n",
    "\n",
    "ipywLayout = widgets.Layout(border='solid 2px green')\n",
    "ipywLayout.display='none'\n",
    "widgets.VBox([fig], layout=ipywLayout)"
   ]
  },
  {
   "cell_type": "code",
   "execution_count": null,
   "metadata": {
    "pycharm": {
     "is_executing": false,
     "name": "#%%\n"
    }
   },
   "outputs": [],
   "source": [
    "px.bar(\n",
    "    sorted_provinces_df.head(10),\n",
    "    x = \"provincia\",\n",
    "    y = \"confirmados\",\n",
    "    title= \"Top 10 provincias mas afectadas\", # the axis names\n",
    "    color_discrete_sequence=[\"cyan\"], \n",
    "    height=500,\n",
    "    width=800\n",
    ")"
   ]
  },
  {
   "cell_type": "code",
   "execution_count": null,
   "metadata": {
    "pycharm": {
     "is_executing": false,
     "name": "#%%\n"
    }
   },
   "outputs": [],
   "source": [
    "px.bar(\n",
    "    sorted_provinces_df.head(10),\n",
    "    x = \"provincia\",\n",
    "    y = \"muertos\",\n",
    "    title= \"Top 10 provincias con mas muertes\", # the axis names\n",
    "    color_discrete_sequence=[\"red\"], \n",
    "    height=500,\n",
    "    width=800\n",
    ")"
   ]
  },
  {
   "cell_type": "code",
   "execution_count": null,
   "metadata": {
    "pycharm": {
     "is_executing": false,
     "name": "#%%\n"
    }
   },
   "outputs": [],
   "source": [
    "px.bar(\n",
    "    sorted_provinces_df.head(10),\n",
    "    x = \"provincia\",\n",
    "    y = \"recuperados\",\n",
    "    title= \"Top 10 provincias con mas casos de recuperados\", # the axis names\n",
    "    color_discrete_sequence=[\"green\"], \n",
    "    height=500,\n",
    "    width=800\n",
    ")"
   ]
  },
  {
   "cell_type": "code",
   "execution_count": null,
   "metadata": {
    "pycharm": {
     "is_executing": false,
     "name": "#%%\n"
    },
    "scrolled": true
   },
   "outputs": [],
   "source": [
    "RD_COORDINATES = (18.606258, -70.106722)\n",
    "provinces_map = folium.Map(location=RD_COORDINATES, tiles=\"cartodbpositron\", zoom_start=6, max_zoom=24, min_zoom = 2)\n",
    "\n",
    "for i in range(0, len(case_per_provinces_df)):\n",
    "    folium.Circle(\n",
    "        location=[case_per_provinces_df.loc[i]['lat'], case_per_provinces_df.loc[i]['long']],\n",
    "        fill=True,\n",
    "        radius=(int((np.log(case_per_provinces_df.iloc[i]['confirmados']+1.00001)))+0.2)*4000,\n",
    "        color='red',\n",
    "        fill_color='indigo',\n",
    "        tooltip=\"<div style='margin: 0; background-color: black; color: white;'>\"+\n",
    "            \"<h4 style='text-align:center;font-weight: bold'>\"+case_per_provinces_df.iloc[i]['provincia'] + \"</h4>\"\n",
    "            \"<ul style='color: white;;list-style-type:circle;align-item:left;padding-left:20px;padding-right:20px'>\"+\n",
    "            \"<li>Confirmed: \"+str(case_per_provinces_df.iloc[i]['confirmados'])+\"</li>\"+\n",
    "                        \"<li>Deaths:   \"+str(case_per_provinces_df.iloc[i]['muertos'])+\"</li>\"+\n",
    "                    \"</ul></div>\",\n",
    "        \n",
    "    ).add_to(provinces_map)\n",
    "\n",
    "provinces_map"
   ]
  },
  {
   "cell_type": "code",
   "execution_count": null,
   "metadata": {
    "pycharm": {
     "is_executing": false,
     "name": "#%%\n"
    }
   },
   "outputs": [],
   "source": [
    "days_since_03_19 = np.array([i for i in range(len(dates))]).reshape(-1, 1)\n",
    "total_cases = np.array(confirmed_total).reshape(-1, 1)"
   ]
  },
  {
   "cell_type": "code",
   "execution_count": null,
   "metadata": {
    "pycharm": {
     "is_executing": false,
     "name": "#%%\n"
    }
   },
   "outputs": [],
   "source": [
    "days_in_future = 10\n",
    "future_forecast = np.array([i for i in range(len(dates)+days_in_future)]).reshape(-1, 1)\n",
    "adjust_dates = future_forecast[:-10]\n",
    "\n",
    "start = '03/19/2020'\n",
    "start_date = datetime.datetime.strptime(start, '%m/%d/%Y')\n",
    "future_forecast_dates = []\n",
    "for i in range(len(future_forecast)):\n",
    "    future_forecast_dates.append((start_date + datetime.timedelta(days=1)).strftime('%m/%d/%Y'))\n",
    "\n",
    "latest_confirmed = confirmed_df[dates[-1]]\n",
    "\n",
    "y_test_confirmed=train_test_split(days_since_03_19, total_cases, test_size=0.15, shuffle=False)\n",
    "X_train_confirmed, X_test_confirmed, y_train_confirmed, y_test_confirmed= \\\n",
    "    train_test_split(days_since_03_19, total_cases, test_size=0.15, shuffle=False)"
   ]
  },
  {
   "cell_type": "code",
   "execution_count": null,
   "metadata": {
    "pycharm": {
     "is_executing": false,
     "name": "#%%\n"
    }
   },
   "outputs": [],
   "source": [
    "kernel = ['poly', 'sigmoid', 'rbf']\n",
    "c = [0.01, 0.1, 1, 10]\n",
    "gamma = [0.01, 0.1, 1]\n",
    "epsilon = [0.01, 0.1, 1]\n",
    "shrinking = [True, False]\n",
    "svm_grid = {'kernel': kernel, 'C': c, 'gamma': gamma, 'epsilon': epsilon, 'shrinking': shrinking}\n",
    "\n",
    "svm = SVR()\n",
    "svm_search = RandomizedSearchCV(svm, svm_grid)\n",
    "svm_search.fit(X_train_confirmed, y_train_confirmed)"
   ]
  },
  {
   "cell_type": "code",
   "execution_count": null,
   "metadata": {
    "pycharm": {
     "is_executing": false,
     "name": "#%%\n"
    }
   },
   "outputs": [],
   "source": [
    "svm_confirmed = svm_search.best_estimator_\n",
    "svm_pred = svm_confirmed.predict(future_forecast)"
   ]
  },
  {
   "cell_type": "code",
   "execution_count": null,
   "metadata": {
    "pycharm": {
     "is_executing": false,
     "name": "#%%\n"
    }
   },
   "outputs": [],
   "source": [
    "svm_test_pred = svm_confirmed.predict(X_test_confirmed)"
   ]
  },
  {
   "cell_type": "code",
   "execution_count": null,
   "metadata": {
    "pycharm": {
     "is_executing": false,
     "name": "#%%\n"
    }
   },
   "outputs": [],
   "source": [
    "plt.figure(figsize=(20, 12))\n",
    "plt.plot(adjust_dates, total_cases)\n",
    "plt.plot(adjust_dates, recovered_total, linestyle='dashed', color='green')\n",
    "plt.plot(adjust_dates, deaths_total, linestyle='dashed', color='red')\n",
    "plt.title('Casos de COVID-19', size=30)\n",
    "plt.xlabel('Días desde el primer boletin oficial.', size=30)\n",
    "plt.ylabel('Números de casos', size=30)\n",
    "plt.xticks(size=15)\n",
    "plt.yticks(size=15)\n",
    "plt.show()"
   ]
  },
  {
   "cell_type": "code",
   "execution_count": null,
   "metadata": {
    "pycharm": {
     "is_executing": false,
     "name": "#%%\n"
    }
   },
   "outputs": [],
   "source": [
    "plt.figure(figsize=(20, 12))\n",
    "plt.plot(adjust_dates, total_cases)\n",
    "plt.plot(future_forecast, svm_pred, linestyle='dashed', color='purple')\n",
    "plt.title('Predición para los siguientes 10 días', size=30)\n",
    "plt.xlabel('Tiempo', size=30)\n",
    "plt.ylabel('Numero de casos', size=30)\n",
    "plt.legend(['Casos confirmados', 'SVM predición'])\n",
    "plt.xticks(size=15)\n",
    "plt.yticks(size=15)\n",
    "plt.show()"
   ]
  }
 ],
 "metadata": {
  "file_extension": ".py",
  "kernelspec": {
   "display_name": "Python 3",
   "language": "python",
   "name": "python3"
  },
  "language_info": {
   "codemirror_mode": {
    "name": "ipython",
    "version": 3
   },
   "file_extension": ".py",
   "mimetype": "text/x-python",
   "name": "python",
   "nbconvert_exporter": "python",
   "pygments_lexer": "ipython3",
   "version": "3.8.1"
  },
  "mimetype": "text/x-python",
  "name": "python",
  "npconvert_exporter": "python",
  "pycharm": {
   "stem_cell": {
    "cell_type": "raw",
    "source": [],
    "metadata": {
     "collapsed": false
    }
   }
  },
  "pygments_lexer": "ipython3",
  "version": 3
 },
 "nbformat": 4,
 "nbformat_minor": 2
}